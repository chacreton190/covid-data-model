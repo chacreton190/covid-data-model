{
 "cells": [
  {
   "cell_type": "code",
   "execution_count": 1,
   "metadata": {},
   "outputs": [
    {
     "ename": "ModuleNotFoundError",
     "evalue": "No module named 'pyseir'",
     "output_type": "error",
     "traceback": [
      "\u001b[1;31m---------------------------------------------------------------------------\u001b[0m",
      "\u001b[1;31mModuleNotFoundError\u001b[0m                       Traceback (most recent call last)",
      "\u001b[1;32m<ipython-input-1-e32a4fab6830>\u001b[0m in \u001b[0;36m<module>\u001b[1;34m\u001b[0m\n\u001b[1;32m----> 1\u001b[1;33m \u001b[1;32mfrom\u001b[0m \u001b[0mpyseir\u001b[0m\u001b[1;33m.\u001b[0m\u001b[0mmodels\u001b[0m\u001b[1;33m.\u001b[0m\u001b[0msuppression_policies\u001b[0m \u001b[1;32mimport\u001b[0m \u001b[0mgenerate_covidactnow_scenarios\u001b[0m\u001b[1;33m\u001b[0m\u001b[1;33m\u001b[0m\u001b[0m\n\u001b[0m\u001b[0;32m      2\u001b[0m \u001b[1;32mimport\u001b[0m \u001b[0mmatplotlib\u001b[0m\u001b[1;33m.\u001b[0m\u001b[0mpyplot\u001b[0m \u001b[1;32mas\u001b[0m \u001b[0mplt\u001b[0m\u001b[1;33m\u001b[0m\u001b[1;33m\u001b[0m\u001b[0m\n\u001b[0;32m      3\u001b[0m \u001b[1;32mimport\u001b[0m \u001b[0mnumpy\u001b[0m \u001b[1;32mas\u001b[0m \u001b[0mnp\u001b[0m\u001b[1;33m\u001b[0m\u001b[1;33m\u001b[0m\u001b[0m\n\u001b[0;32m      4\u001b[0m \u001b[1;32mimport\u001b[0m \u001b[0mdatetime\u001b[0m\u001b[1;33m\u001b[0m\u001b[1;33m\u001b[0m\u001b[0m\n\u001b[0;32m      5\u001b[0m \u001b[1;33m\u001b[0m\u001b[0m\n",
      "\u001b[1;31mModuleNotFoundError\u001b[0m: No module named 'pyseir'"
     ]
    }
   ],
   "source": [
    "from pyseir.models.suppression_policies import generate_covidactnow_scenarios\n",
    "import matplotlib.pyplot as plt\n",
    "import numpy as np\n",
    "import datetime\n",
    "\n",
    "scenario_to_name_map = {\n",
    "    'no_intervention': 'Limited Action',\n",
    "    'flatten_the_curve': 'Stay at Home (Strict)',\n",
    "    'social_distancing': 'Stay at Home (Lax)',\n",
    "    'full_containment': 'Full Containment'\n",
    "}\n",
    "t_list = np.linspace(0, 100, 101)\n",
    "for scenario in ['no_intervention', 'flatten_the_curve', 'full_containment', 'social_distancing']:\n",
    "    vals = generate_covidactnow_scenarios(t_list, R0=3.6, t0=datetime.datetime.today(), scenario=scenario)\n",
    "    plt.plot(t_list, 3.6*vals(t_list), label=scenario_to_name_map[scenario], linewidth=2)\n",
    "\n",
    "plt.hlines(1, 0, 100, linestyle='--', label='Containment Threshold')\n",
    "plt.legend(loc=(1.1, 0))\n",
    "plt.ylabel('Reff')\n",
    "plt.xlabel('Days From Today')\n",
    "plt.grid()"
   ]
  },
  {
   "cell_type": "code",
   "execution_count": null,
   "metadata": {},
   "outputs": [],
   "source": []
  }
 ],
 "metadata": {
  "kernelspec": {
   "display_name": "Python 3",
   "language": "python",
   "name": "python3"
  },
  "language_info": {
   "codemirror_mode": {
    "name": "ipython",
    "version": 3
   },
   "file_extension": ".py",
   "mimetype": "text/x-python",
   "name": "python",
   "nbconvert_exporter": "python",
   "pygments_lexer": "ipython3",
   "version": "3.7.6"
  }
 },
 "nbformat": 4,
 "nbformat_minor": 4
}
